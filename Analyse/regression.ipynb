{
 "cells": [
  {
   "cell_type": "code",
   "execution_count": 1,
   "metadata": {},
   "outputs": [
    {
     "data": {
      "text/plain": [
       "'/home/riccardodandrea/Schreibtisch/Github/ReutersNOZ'"
      ]
     },
     "execution_count": 1,
     "metadata": {},
     "output_type": "execute_result"
    }
   ],
   "source": [
    "import os \n",
    "os.chdir(\"/home/riccardodandrea/Schreibtisch/Github/ReutersNOZ\")\n",
    "os.getcwd()"
   ]
  },
  {
   "cell_type": "code",
   "execution_count": 2,
   "metadata": {},
   "outputs": [],
   "source": [
    "from sklearn.model_selection import train_test_split\n",
    "from sklearn.feature_extraction.text import CountVectorizer\n",
    "from sklearn.feature_extraction.text import TfidfTransformer\n",
    "from sklearn.naive_bayes import MultinomialNB\n",
    "import pandas as pd"
   ]
  },
  {
   "cell_type": "code",
   "execution_count": 3,
   "metadata": {},
   "outputs": [
    {
     "data": {
      "text/html": [
       "<div>\n",
       "<style scoped>\n",
       "    .dataframe tbody tr th:only-of-type {\n",
       "        vertical-align: middle;\n",
       "    }\n",
       "\n",
       "    .dataframe tbody tr th {\n",
       "        vertical-align: top;\n",
       "    }\n",
       "\n",
       "    .dataframe thead th {\n",
       "        text-align: right;\n",
       "    }\n",
       "</style>\n",
       "<table border=\"1\" class=\"dataframe\">\n",
       "  <thead>\n",
       "    <tr style=\"text-align: right;\">\n",
       "      <th></th>\n",
       "      <th>topics</th>\n",
       "      <th>text</th>\n",
       "      <th>split</th>\n",
       "    </tr>\n",
       "  </thead>\n",
       "  <tbody>\n",
       "    <tr>\n",
       "      <th>0</th>\n",
       "      <td>cocoa</td>\n",
       "      <td>Showers continued throughout the week in\\nthe ...</td>\n",
       "      <td>TRAIN</td>\n",
       "    </tr>\n",
       "    <tr>\n",
       "      <th>4</th>\n",
       "      <td>grain,wheat,corn,barley,oat,sorghum</td>\n",
       "      <td>The U.S. Agriculture Department\\nreported the ...</td>\n",
       "      <td>TRAIN</td>\n",
       "    </tr>\n",
       "    <tr>\n",
       "      <th>5</th>\n",
       "      <td>veg-oil,linseed,lin-oil,soy-oil,sun-oil,soybea...</td>\n",
       "      <td>Argentine grain board figures show\\ncrop regis...</td>\n",
       "      <td>TRAIN</td>\n",
       "    </tr>\n",
       "    <tr>\n",
       "      <th>8</th>\n",
       "      <td>earn</td>\n",
       "      <td>Champion Products Inc said its\\nboard of direc...</td>\n",
       "      <td>TRAIN</td>\n",
       "    </tr>\n",
       "    <tr>\n",
       "      <th>9</th>\n",
       "      <td>acq</td>\n",
       "      <td>Computer Terminal Systems Inc said\\nit has com...</td>\n",
       "      <td>TRAIN</td>\n",
       "    </tr>\n",
       "  </tbody>\n",
       "</table>\n",
       "</div>"
      ],
      "text/plain": [
       "                                              topics  \\\n",
       "0                                              cocoa   \n",
       "4                grain,wheat,corn,barley,oat,sorghum   \n",
       "5  veg-oil,linseed,lin-oil,soy-oil,sun-oil,soybea...   \n",
       "8                                               earn   \n",
       "9                                                acq   \n",
       "\n",
       "                                                text  split  \n",
       "0  Showers continued throughout the week in\\nthe ...  TRAIN  \n",
       "4  The U.S. Agriculture Department\\nreported the ...  TRAIN  \n",
       "5  Argentine grain board figures show\\ncrop regis...  TRAIN  \n",
       "8  Champion Products Inc said its\\nboard of direc...  TRAIN  \n",
       "9  Computer Terminal Systems Inc said\\nit has com...  TRAIN  "
      ]
     },
     "execution_count": 3,
     "metadata": {},
     "output_type": "execute_result"
    }
   ],
   "source": [
    "df = pd.read_csv(\"reuters_articles_with_split.csv\")\n",
    "df = df.dropna()\n",
    "df.head()"
   ]
  },
  {
   "cell_type": "code",
   "execution_count": null,
   "metadata": {},
   "outputs": [],
   "source": [
    "df[\"topics\"].unique"
   ]
  },
  {
   "cell_type": "code",
   "execution_count": 4,
   "metadata": {},
   "outputs": [
    {
     "name": "stdout",
     "output_type": "stream",
     "text": [
      "Training Data : (8301,)\n",
      "Testing Data :  (2076,)\n"
     ]
    }
   ],
   "source": [
    "# Create Feature and Label sets\n",
    "X = df['text']\n",
    "y = df['topics']\n",
    "# train test split (66% train - 33% test)\n",
    "from sklearn.model_selection import train_test_split\n",
    "X_train, X_test, y_train, y_test = train_test_split(X, y, test_size=0.2)\n",
    "print('Training Data :', X_train.shape)\n",
    "\n",
    "print('Testing Data : ', X_test.shape)"
   ]
  },
  {
   "cell_type": "code",
   "execution_count": 5,
   "metadata": {},
   "outputs": [],
   "source": [
    "count_vect = CountVectorizer()\n",
    "X_train_counts = count_vect.fit_transform(X_train)\n",
    "tfidf_transformer = TfidfTransformer()\n",
    "X_train_tfidf = tfidf_transformer.fit_transform(X_train_counts)\n",
    "clf = MultinomialNB().fit(X_train_tfidf, y_train)"
   ]
  },
  {
   "cell_type": "code",
   "execution_count": 9,
   "metadata": {},
   "outputs": [
    {
     "name": "stdout",
     "output_type": "stream",
     "text": [
      "['earn']\n"
     ]
    }
   ],
   "source": [
    "print(clf.predict(count_vect.transform([\"\"\"CRUDE OIL NETBACKS UP SHARPLY IN EUROPE, U.S.</TITLE>\n",
    "<DATELINE>    NEW YORK, April 9 - </DATELINE><BODY>Crude oil netback values in complex\n",
    "refineries rose sharply in Europe and firmed in the U.S. last\n",
    "Friday from the previous week but fell sharply in Singapore,\n",
    "according to calculations by Reuters Pipeline.\n",
    "    The firmer tone to refining margins in Europe and the U.S.\n",
    "relected higher prices for petroleum products, particularly\n",
    "gasoline, and support from crude oil prices.\n",
    "    Netback values for crude oil refined in Northern Europe\n",
    "rose substantially following strong gains in gasoline prices\n",
    "there. Brent is valued at 19.45 dlrs, up 56 cts a barrel or\n",
    "three pct from the previous week.\n",
    "    In the U.S. Gulf, sweet crudes rose in value by 14 cts to\n",
    "19.33 dlrs for West Texas Intermediate, up about 0.7 pct.\n",
    "    Sour grades in the U.S. Gulf showed an increase of 33 cts a\n",
    "barrel for Alaska North Slope, up 1.7 pct.\n",
    "    But netbacks for crude oil refined in Singapore fell\n",
    "sharply, down 15 cts to as much as 68 cts a barrel as ample\n",
    "distillate supplies weighed on petroleum product prices.\n",
    "    Attaka in Singapore is valued at 18.55 dlrs, a decline of\n",
    "68 cts a barrel or 3.5 pct from the previous week.\n",
    "    For refineries in the Mediterranean, netback values were\n",
    "mostly lower, with declines of seven to 14 cts. The value of\n",
    "Kuwait crude fell 14 cts to 18.37 dlrs, while Iranian Light\n",
    "fell 11 cts to 19.14 dlrs.\n",
    "    On the U.S. West Coast, netback values for ANS CIF L.A.\n",
    "also jumped sharply, up 40 cts a barrel or 2.2 pct to 18.82\n",
    "dlrs on higher gasoline prices.\"\"\"])))"
   ]
  },
  {
   "cell_type": "code",
   "execution_count": null,
   "metadata": {},
   "outputs": [],
   "source": [
    "set(list(df[\"topics\"]))"
   ]
  },
  {
   "cell_type": "code",
   "execution_count": null,
   "metadata": {},
   "outputs": [],
   "source": [
    "df"
   ]
  },
  {
   "cell_type": "code",
   "execution_count": null,
   "metadata": {},
   "outputs": [],
   "source": []
  },
  {
   "cell_type": "code",
   "execution_count": null,
   "metadata": {},
   "outputs": [],
   "source": []
  },
  {
   "cell_type": "code",
   "execution_count": null,
   "metadata": {},
   "outputs": [],
   "source": []
  },
  {
   "cell_type": "code",
   "execution_count": 10,
   "metadata": {},
   "outputs": [],
   "source": [
    "import pandas as pd\n",
    "from sklearn.ensemble import RandomForestClassifier\n",
    "from sklearn.model_selection import train_test_split"
   ]
  },
  {
   "cell_type": "code",
   "execution_count": 14,
   "metadata": {},
   "outputs": [
    {
     "name": "stdout",
     "output_type": "stream",
     "text": [
      "Genauigkeit: 0.790\n"
     ]
    }
   ],
   "source": [
    "import pandas as pd\n",
    "from sklearn.model_selection import train_test_split\n",
    "from sklearn.ensemble import RandomForestClassifier\n",
    "from sklearn.feature_extraction.text import TfidfVectorizer\n",
    "from sklearn.metrics import accuracy_score\n",
    "\n",
    "# Laden der CSV-Datei mit den Artikeln\n",
    "df = pd.read_csv(\"reuters_articles_with_split.csv\")\n",
    "df = df.dropna()\n",
    "# Features auswählen (Text) und Zielvariable (Topics)\n",
    "X = df[\"text\"]\n",
    "y = df[\"topics\"]\n",
    "\n",
    "# Trainingsdaten trennen\n",
    "X_train, X_test, y_train, y_test = train_test_split(X, y, test_size=0.2, random_state=42)\n",
    "\n",
    "# TF-IDF-Vektorisierung der Texte (Text in numerische Vektoren umwandeln)\n",
    "vectorizer = TfidfVectorizer(max_features=5000, stop_words='english')  # max_features setzt die Anzahl der Vektoren\n",
    "X_train_tfidf = vectorizer.fit_transform(X_train)\n",
    "X_test_tfidf = vectorizer.transform(X_test)\n",
    "\n",
    "# Modell trainieren\n",
    "model = RandomForestClassifier(n_estimators=100, random_state=42)\n",
    "model.fit(X_train_tfidf, y_train)\n",
    "\n",
    "# Modell evaluieren\n",
    "y_pred = model.predict(X_test_tfidf)\n",
    "accuracy = accuracy_score(y_test, y_pred)\n",
    "print(f\"Genauigkeit: {accuracy:.3f}\")\n"
   ]
  },
  {
   "cell_type": "code",
   "execution_count": 19,
   "metadata": {},
   "outputs": [
    {
     "name": "stdout",
     "output_type": "stream",
     "text": [
      "Vorhergesagtes Thema: cocoa\n"
     ]
    }
   ],
   "source": [
    "# Beispieltext, den du vorhersagen möchtest\n",
    "new_text = \"\"\"JAKARTA, Oct 20 - </DATELINE><BODY>Asian cocoa producers are expanding\n",
    "output despite depressed world prices and they dismiss\n",
    "suggestions in the London market that their cocoa is inferior.\n",
    "    \"Leading cocoa producers are trying to protect their market\n",
    "from our product,\" said a spokesman for Indonesia's directorate\n",
    "general of plantations. \"We're happy about our long-term future.\"\n",
    "    Malaysian growers said they would try to expand sales in\n",
    "Asia and the United States if Malaysian cocoa was not suitable\n",
    "for European tastes.\"\"\"\n",
    "\n",
    "# Schritt 1: Text in denselben numerischen Vektor umwandeln, der für das Training verwendet wurde\n",
    "new_text_tfidf = vectorizer.transform([new_text])\n",
    "\n",
    "# Schritt 2: Vorhersage des Themas mit dem trainierten Modell\n",
    "predicted_topic = model.predict(new_text_tfidf)\n",
    "\n",
    "# Ausgabe des vorhergesagten Themas\n",
    "print(f\"Vorhergesagtes Thema: {predicted_topic[0]}\")\n"
   ]
  }
 ],
 "metadata": {
  "kernelspec": {
   "display_name": "venv",
   "language": "python",
   "name": "python3"
  },
  "language_info": {
   "codemirror_mode": {
    "name": "ipython",
    "version": 3
   },
   "file_extension": ".py",
   "mimetype": "text/x-python",
   "name": "python",
   "nbconvert_exporter": "python",
   "pygments_lexer": "ipython3",
   "version": "3.11.11"
  }
 },
 "nbformat": 4,
 "nbformat_minor": 2
}
